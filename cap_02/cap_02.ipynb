{
 "cells": [
  {
   "attachments": {},
   "cell_type": "markdown",
   "metadata": {},
   "source": [
    "Variáveis, expressões e instruções,\n",
    "\n",
    "Um dos recursos mais eficientes de uma linguagem de programação é a capacidade de manipular variáveis.\n",
    "\n",
    "Instrução de Atribuição: Cria uma nova variávei e dá um valor a ela."
   ]
  },
  {
   "cell_type": "code",
   "execution_count": 4,
   "metadata": {},
   "outputs": [],
   "source": [
    "message = \"And now something completely different\"\n",
    "n = 17\n",
    "pi = 3.14"
   ]
  },
  {
   "attachments": {},
   "cell_type": "markdown",
   "metadata": {},
   "source": [
    "Nome de variáveis. Existem diversas regras dentro do python, sendo elas:\n",
    "\n",
    "- Podem ser tão longos quanto quiser.\n",
    "- Podem conter letras e números, mas não podem começar com números.\n",
    "- A convenção é usar apenas letras minúsculas.\n",
    "- Existem também algumas palavras específicas que não são disponibilizadas para uso de declaração de variáveis, pois já estão armazenadas como palavra-chave do python."
   ]
  },
  {
   "cell_type": "code",
   "execution_count": 5,
   "metadata": {},
   "outputs": [],
   "source": [
    "# class = 12"
   ]
  },
  {
   "attachments": {},
   "cell_type": "markdown",
   "metadata": {},
   "source": [
    "Expressões e Instruções:\n",
    "\n",
    "Uma expressão é uma combinação de valores, variáveis e operadores."
   ]
  },
  {
   "cell_type": "code",
   "execution_count": 6,
   "metadata": {},
   "outputs": [
    {
     "name": "stdout",
     "output_type": "stream",
     "text": [
      "41\n"
     ]
    }
   ],
   "source": [
    "# Exemplo de operação entre o parênteses da linha 2\n",
    "n = ( 24 + 17 )\n",
    "print(n)"
   ]
  },
  {
   "attachments": {},
   "cell_type": "markdown",
   "metadata": {},
   "source": [
    "Ordem das operações:\n",
    "\n",
    "Existe uma ordem de prioridade da execução das operações. Dentro operações matemáticas, ela segue a mesma convenção matemática. Vale lembrar do acrônimo PEMDAS. Parenteses, Exponenciação, Multiplicação, Divisão Adição e Subtração.\n",
    "Operações com strings: Em geral, não é possível executar operações matemáticas com strings, mas se elas parecerem números, então assim são ilegais.\n",
    "\n",
    "Mas há duas exceções: \"+\" e \"*\"\n"
   ]
  }
 ],
 "metadata": {
  "kernelspec": {
   "display_name": "Python 3",
   "language": "python",
   "name": "python3"
  },
  "language_info": {
   "codemirror_mode": {
    "name": "ipython",
    "version": 3
   },
   "file_extension": ".py",
   "mimetype": "text/x-python",
   "name": "python",
   "nbconvert_exporter": "python",
   "pygments_lexer": "ipython3",
   "version": "3.11.1"
  },
  "orig_nbformat": 4
 },
 "nbformat": 4,
 "nbformat_minor": 2
}
