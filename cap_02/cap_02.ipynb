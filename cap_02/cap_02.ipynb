{
 "cells": [
  {
   "attachments": {},
   "cell_type": "markdown",
   "metadata": {},
   "source": [
    "*Variáveis, expressões e instruções.*\n",
    "\n",
    "Um dos recursos mais eficientes de uma linguagem de programação é a capacidade de manipular variáveis.\n",
    "\n",
    "Instrução de Atribuição: Cria uma nova variávei e dá um valor a ela."
   ]
  },
  {
   "cell_type": "code",
   "execution_count": 4,
   "metadata": {},
   "outputs": [],
   "source": [
    "message = \"And now something completely different\"\n",
    "n = 17\n",
    "pi = 3.14"
   ]
  },
  {
   "attachments": {},
   "cell_type": "markdown",
   "metadata": {},
   "source": [
    "Nome de variáveis. Existem diversas regras dentro do python, sendo elas:\n",
    "\n",
    "- Podem ser tão longos quanto quiser.\n",
    "- Podem conter letras e números, mas não podem começar com números.\n",
    "- A convenção é usar apenas letras minúsculas.\n",
    "- Existem também algumas palavras específicas que não são disponibilizadas para uso de declaração de variáveis, pois já estão armazenadas como palavra-chave do python."
   ]
  },
  {
   "cell_type": "code",
   "execution_count": 5,
   "metadata": {},
   "outputs": [],
   "source": [
    "# class = 12"
   ]
  },
  {
   "attachments": {},
   "cell_type": "markdown",
   "metadata": {},
   "source": [
    "*Expressões e Instruções:*\n",
    "\n",
    "Uma expressão é uma combinação de valores, variáveis e operadores."
   ]
  },
  {
   "cell_type": "code",
   "execution_count": 7,
   "metadata": {},
   "outputs": [
    {
     "name": "stdout",
     "output_type": "stream",
     "text": [
      "41\n"
     ]
    }
   ],
   "source": [
    "# Exemplo de operação entre o parênteses da linha 2\n",
    "n = ( 24 + 17 )\n",
    "print(n)"
   ]
  },
  {
   "attachments": {},
   "cell_type": "markdown",
   "metadata": {},
   "source": [
    "*Ordem das operações*\n",
    "\n",
    "Existe uma ordem de prioridade da execução das operações. Dentro operações matemáticas, ela segue a mesma convenção matemática. Vale lembrar do acrônimo PEMDAS. Parenteses, Exponenciação, Multiplicação, Divisão Adição e Subtração.\n",
    "Operações com strings: Em geral, não é possível executar operações matemáticas com strings, mas se elas parecerem números, então assim são ilegais.\n",
    "\n",
    "Mas há duas exceções: \"+\" e \"*\"\n",
    "\n",
    "O operador \"+\" executa uma concatenação de strings, une as strings pelas extremidades. "
   ]
  },
  {
   "cell_type": "code",
   "execution_count": 1,
   "metadata": {},
   "outputs": [
    {
     "name": "stdout",
     "output_type": "stream",
     "text": [
      "throatwarbler\n"
     ]
    }
   ],
   "source": [
    "first = \"throat\"\n",
    "second = \"warbler\"\n",
    "print(first + second)"
   ]
  },
  {
   "attachments": {},
   "cell_type": "markdown",
   "metadata": {},
   "source": [
    "O operador \"*\" também funciona em strings; ele executa a repetição. Por exemplo, ('span' * 3) é \"spanspanspan\". Se um dos valores for uma string o outro tem de ser um número inteiro. Este uso de + e * faz sentido por analogia com a adição e a multiplicação. Tal como (4 * 3) é equivalente a (4+4+4), esperamos que ('span' * 3) seja o mesmo que 'span'+'span'+'span'. "
   ]
  },
  {
   "cell_type": "code",
   "execution_count": 2,
   "metadata": {},
   "outputs": [
    {
     "name": "stdout",
     "output_type": "stream",
     "text": [
      "spanspanspan\n"
     ]
    }
   ],
   "source": [
    "s = \"span\"\n",
    "print(3*s)"
   ]
  },
  {
   "attachments": {},
   "cell_type": "markdown",
   "metadata": {},
   "source": [
    "*Comentários* \n",
    "\n",
    "Conforme  os programas ficam maiores e mais complicados, eles são mais difíceis de ler. As lingguagens formais são dnsas e muitas vezes ver um pedaço de código e compreender o que ele faz ou por que faz isso.\n",
    "\n",
    "É uma boa ideia acrescentar notas aos seus programas para explicar em linguagem natural o que o programa está fazendo.\n",
    "\n",
    "Essas notas se chamam \"comentários\" e começam com '#'"
   ]
  },
  {
   "cell_type": "code",
   "execution_count": 3,
   "metadata": {},
   "outputs": [],
   "source": [
    "# Este é um comentário, logo não será executado como uma instrução comum dentro do código. Servindo como trecho de explicação do código."
   ]
  },
  {
   "attachments": {},
   "cell_type": "markdown",
   "metadata": {},
   "source": [
    "*Depuração*;\n",
    "\n",
    "Há três tipos de errps que podem ocorrer em um programa: erros de sintaxe, erros de tempo de execução e erros semânticos; É útil distinguir entre eles para rastreá-los mais rapidamente.\n",
    "\n",
    "Erro de sintaxe: A \"sintaxe\" refere-se à estrutura de um programa e suas respectivas regras. Por exemplo, os parênteses devem vir em pares correspondentes, então é (1 + 2) é legal, mas  8) é um _erro de sintaxe_\n",
    "\n",
    "\n",
    "Erro de tempo de execução: O segundo tipo de erro é o erro de tempo de execução, assim chamado porque o erro não aparece até que o programa seja executado. Esses erros também se chamam de exceções porque normalmente indicam que algo excepcional(e ruim) aconteceu. \n",
    "\n",
    "Erro semântico: O terceiro tio ndo erro é \"semântico\", ou seja, relacionado ao significado. Se houver erro semântico no seu programa, ele será executado sem gerar mensagens de erro, mas não vai fazer a coisa certa. Vai fazer algo diferente. Especificamente o qu4e você instruir a fazer.\n",
    "\n",
    "\n",
    "\n",
    "\n",
    "*Exercícios*\n",
    "\n",
    "Exercício 2.1\n",
    "\n",
    "Repetindo o meu conselho do capítulo anterior, sempre que você\n",
    "aprender um recurso novo, você deve testá-lo no modo interativo e\n",
    "fazer erros de propósito para ver o que acontece.\n",
    "• Vimos que n = 42 é legal. E 42 = n?\n",
    "• Ou x = y = 1?\n",
    "• Em algumas linguagens, cada instrução termina em um ponto e\n",
    "vírgula ;. O que acontece se você puser um ponto e vírgula no\n",
    "fim de uma instrução no Python?\n",
    "• E se puser um ponto no fim de uma instrução?\n",
    "• Em notação matemática é possível multiplicar x e y desta forma:\n",
    "xy. O que acontece se você tentar fazer o mesmo no Python?\n",
    "\n"
   ]
  },
  {
   "cell_type": "code",
   "execution_count": null,
   "metadata": {},
   "outputs": [],
   "source": []
  },
  {
   "attachments": {},
   "cell_type": "markdown",
   "metadata": {},
   "source": [
    "Exercício 2.2\n",
    "\n",
    "Pratique o uso do interpretador do Python como uma calculadora:\n",
    "1. O volume de uma esfera com raio r é (4/3(pi*(r**3))). Qual é o volume de\n",
    "uma esfera com raio 5?\n",
    "2. Suponha que o preço de capa de um livro seja R$ 24,95, mas\n",
    "as livrarias recebem um desconto de 40%. O transporte custa\n",
    "R$ 3,00 para o primeiro exemplar e 75 centavos para cada\n",
    "exemplar adicional. Qual é o custo total de atacado para 60\n",
    "cópias?\n",
    "3. Se eu sair da minha casa às 6:52 e correr 1 quilômetro a um\n",
    "certo passo (8min15s por quilômetro), então 3 quilômetros a um\n",
    "passo mais rápido (7min12s por quilômetro) e 1 quilômetro no\n",
    "mesmo passo usado em primeiro lugar, que horas chego em\n",
    "casa para o café da manhã"
   ]
  },
  {
   "cell_type": "code",
   "execution_count": null,
   "metadata": {},
   "outputs": [],
   "source": [
    "#1\n",
    "r = 0\n",
    "pi = 3.14\n",
    "vol = 4/3 * (pi * (r**3))\n",
    "\n",
    "resp = float(input(\"Qual o número\"))\n",
    "print(resp)"
   ]
  }
 ],
 "metadata": {
  "kernelspec": {
   "display_name": "Python 3",
   "language": "python",
   "name": "python3"
  },
  "language_info": {
   "codemirror_mode": {
    "name": "ipython",
    "version": 3
   },
   "file_extension": ".py",
   "mimetype": "text/x-python",
   "name": "python",
   "nbconvert_exporter": "python",
   "pygments_lexer": "ipython3",
   "version": "3.11.1"
  },
  "orig_nbformat": 4
 },
 "nbformat": 4,
 "nbformat_minor": 2
}
