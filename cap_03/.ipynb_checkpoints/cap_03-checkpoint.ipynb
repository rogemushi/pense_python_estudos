{
 "cells": [
  {
   "cell_type": "markdown",
   "metadata": {},
   "source": [
    "# Funções"
   ]
  },
  {
   "cell_type": "markdown",
   "metadata": {},
   "source": [
    "No contexto da programação, uma função é uma sequência nomeada de instruções que executa uma operação de computação.\n",
    "Ao definir uma função, você especifica o nome e a sequência de intruções. Depois, pode \"chamar\" a função pelo nome.\n"
   ]
  },
  {
   "cell_type": "code",
   "execution_count": 1,
   "metadata": {
    "ExecuteTime": {
     "end_time": "2023-07-14T22:25:13.519295473Z",
     "start_time": "2023-07-14T22:25:13.488394625Z"
    }
   },
   "outputs": [],
   "source": [
    "def corre():\n",
    "    print(\"oii\")"
   ]
  },
  {
   "cell_type": "code",
   "execution_count": null,
   "metadata": {},
   "outputs": [],
   "source": [
    "corre()"
   ]
  },
  {
   "cell_type": "markdown",
   "metadata": {},
   "source": [
    "Acima temos um exemplo de, primeiramente uma chamada encapsulada, e em seguida a requisição da função."
   ]
  },
  {
   "cell_type": "markdown",
   "metadata": {},
   "source": [
    "### Funções matemáticas"
   ]
  },
  {
   "cell_type": "markdown",
   "metadata": {},
   "source": [
    "O Python tem um módulo matemático que oferece a maioria das funções matemáticas comuns. Um módulo chamado math(matemática). Ao se exibir o objeto de módulo, são apresentadas infopemações sobre ele."
   ]
  },
  {
   "cell_type": "code",
   "execution_count": 6,
   "metadata": {
    "ExecuteTime": {
     "end_time": "2023-07-14T22:29:39.524420079Z",
     "start_time": "2023-07-14T22:29:39.503610767Z"
    }
   },
   "outputs": [
    {
     "name": "stdout",
     "output_type": "stream",
     "text": [
      "<module 'math' from '/usr/lib/python3.11/lib-dynload/math.cpython-311-x86_64-linux-gnu.so'>\n"
     ]
    }
   ],
   "source": [
    "import math\n",
    "print(math)"
   ]
  },
  {
   "cell_type": "markdown",
   "metadata": {},
   "source": [
    "O objeto módulo contém as funçes e variáveis definidas no módulo. Para acessar uma das funções, separados por um ponto. Este formado é chamada de notação de ponto."
   ]
  },
  {
   "cell_type": "code",
   "execution_count": null,
   "metadata": {},
   "outputs": [],
   "source": [
    "signal_power, noise_power = 10, 12\n",
    "ratio = signal_power / noise_power\n",
    "decibels = 10 * math.log10(ratio)\n",
    "radians = 0.7\n",
    "height = math.sin(radians)"
   ]
  },
  {
   "cell_type": "markdown",
   "metadata": {},
   "source": [
    "O primeiro exemplo utiiliza math.log10 para calcular a proporção de sinal e de ruído em decibéis. O segundo encontra o seno de radians. O nome da variável indica que sin e outras funções trigonométricas(cos,tan etc.) recebem argumentos em radianos. Para converter graus em radianos, divida por 180 e multiplique por PI."
   ]
  },
  {
   "cell_type": "code",
   "execution_count": 8,
   "metadata": {
    "ExecuteTime": {
     "end_time": "2023-07-14T22:34:53.605020366Z",
     "start_time": "2023-07-14T22:34:53.597904559Z"
    }
   },
   "outputs": [
    {
     "name": "stdout",
     "output_type": "stream",
     "text": [
      "0.7071067811865475\n"
     ]
    }
   ],
   "source": [
    "degrees = 45\n",
    "radians = degrees / 180 * math.pi\n",
    "valor = math.sin(radians)\n",
    "print(valor)"
   ]
  },
  {
   "cell_type": "markdown",
   "metadata": {},
   "source": [
    "### Composição"
   ]
  },
  {
   "cell_type": "markdown",
   "metadata": {},
   "source": [
    "Por enquanto, falamos sobre os elementos de um programa -- variáveis, expressões e instruções -- de forma isolada, mas não sobre como combiná-los.\n",
    "\n",
    "Uma"
   ]
  }
 ],
 "metadata": {
  "kernelspec": {
   "display_name": "Python 3 (ipykernel)",
   "language": "python",
   "name": "python3"
  },
  "language_info": {
   "codemirror_mode": {
    "name": "ipython",
    "version": 3
   },
   "file_extension": ".py",
   "mimetype": "text/x-python",
   "name": "python",
   "nbconvert_exporter": "python",
   "pygments_lexer": "ipython3",
   "version": "3.11.3"
  }
 },
 "nbformat": 4,
 "nbformat_minor": 1
}
